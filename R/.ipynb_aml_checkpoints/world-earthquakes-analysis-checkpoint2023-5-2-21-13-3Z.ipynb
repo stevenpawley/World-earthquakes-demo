{
  "cells": [
    {
      "cell_type": "code",
      "source": [
        "library(tidyverse)\n",
        "library(plotly)"
      ],
      "outputs": [
        {
          "output_type": "stream",
          "name": "stderr",
          "text": "── \u001b[1mAttaching core tidyverse packages\u001b[22m ──────────────────────── tidyverse 2.0.0 ──\n\u001b[32m✔\u001b[39m \u001b[34mdplyr    \u001b[39m 1.1.1     \u001b[32m✔\u001b[39m \u001b[34mreadr    \u001b[39m 2.1.4\n\u001b[32m✔\u001b[39m \u001b[34mforcats  \u001b[39m 1.0.0     \u001b[32m✔\u001b[39m \u001b[34mstringr  \u001b[39m 1.5.0\n\u001b[32m✔\u001b[39m \u001b[34mggplot2  \u001b[39m 3.4.2     \u001b[32m✔\u001b[39m \u001b[34mtibble   \u001b[39m 3.2.1\n\u001b[32m✔\u001b[39m \u001b[34mlubridate\u001b[39m 1.9.2     \u001b[32m✔\u001b[39m \u001b[34mtidyr    \u001b[39m 1.3.0\n\u001b[32m✔\u001b[39m \u001b[34mpurrr    \u001b[39m 1.0.1     \n── \u001b[1mConflicts\u001b[22m ────────────────────────────────────────── tidyverse_conflicts() ──\n\u001b[31m✖\u001b[39m \u001b[34mdplyr\u001b[39m::\u001b[32mfilter()\u001b[39m masks \u001b[34mstats\u001b[39m::filter()\n\u001b[31m✖\u001b[39m \u001b[34mdplyr\u001b[39m::\u001b[32mlag()\u001b[39m    masks \u001b[34mstats\u001b[39m::lag()\n\u001b[36mℹ\u001b[39m Use the conflicted package (\u001b[3m\u001b[34m<http://conflicted.r-lib.org/>\u001b[39m\u001b[23m) to force all conflicts to become errors\n\nAttaching package: ‘plotly’\n\n\nThe following object is masked from ‘package:ggplot2’:\n\n    last_plot\n\n\nThe following object is masked from ‘package:stats’:\n\n    filter\n\n\nThe following object is masked from ‘package:graphics’:\n\n    layout\n\n\n"
        }
      ],
      "execution_count": 1,
      "metadata": {
        "gather": {
          "logged": 1685740194373
        }
      }
    },
    {
      "cell_type": "markdown",
      "source": [
        "## Download the data"
      ],
      "metadata": {
        "nteract": {
          "transient": {
            "deleting": false
          }
        }
      }
    },
    {
      "cell_type": "code",
      "source": [
        "quakes = read_csv('https://raw.githubusercontent.com/plotly/datasets/master/earthquakes-23k.csv')\n",
        "\n",
        "quakes = quakes |> \n",
        "  mutate(Date = parse_date_time(Date, orders = \"%m/%d/%Y\"))\n",
        "\n",
        "head(quakes)"
      ],
      "outputs": [
        {
          "output_type": "stream",
          "name": "stderr",
          "text": "\u001b[1mRows: \u001b[22m\u001b[34m23412\u001b[39m \u001b[1mColumns: \u001b[22m\u001b[34m4\u001b[39m\n\u001b[36m──\u001b[39m \u001b[1mColumn specification\u001b[22m \u001b[36m────────────────────────────────────────────────────────\u001b[39m\n\u001b[1mDelimiter:\u001b[22m \",\"\n\u001b[31mchr\u001b[39m (1): Date\n\u001b[32mdbl\u001b[39m (3): Latitude, Longitude, Magnitude\n\n\u001b[36mℹ\u001b[39m Use `spec()` to retrieve the full column specification for this data.\n\u001b[36mℹ\u001b[39m Specify the column types or set `show_col_types = FALSE` to quiet this message.\nWarning message:\n“\u001b[1m\u001b[22mThere was 1 warning in `mutate()`.\n\u001b[1m\u001b[22m\u001b[36mℹ\u001b[39m In argument: `Date = parse_date_time(Date, orders = \"%m/%d/%Y\")`.\nCaused by warning:\n\u001b[33m!\u001b[39m  3 failed to parse.”\n"
        },
        {
          "output_type": "display_data",
          "data": {
            "text/html": "<table class=\"dataframe\">\n<caption>A tibble: 6 × 4</caption>\n<thead>\n\t<tr><th scope=col>Date</th><th scope=col>Latitude</th><th scope=col>Longitude</th><th scope=col>Magnitude</th></tr>\n\t<tr><th scope=col>&lt;dttm&gt;</th><th scope=col>&lt;dbl&gt;</th><th scope=col>&lt;dbl&gt;</th><th scope=col>&lt;dbl&gt;</th></tr>\n</thead>\n<tbody>\n\t<tr><td>1965-01-02</td><td> 19.246</td><td> 145.616</td><td>6.0</td></tr>\n\t<tr><td>1965-01-04</td><td>  1.863</td><td> 127.352</td><td>5.8</td></tr>\n\t<tr><td>1965-01-05</td><td>-20.579</td><td>-173.972</td><td>6.2</td></tr>\n\t<tr><td>1965-01-08</td><td>-59.076</td><td> -23.557</td><td>5.8</td></tr>\n\t<tr><td>1965-01-09</td><td> 11.938</td><td> 126.427</td><td>5.8</td></tr>\n\t<tr><td>1965-01-10</td><td>-13.405</td><td> 166.629</td><td>6.7</td></tr>\n</tbody>\n</table>\n",
            "text/markdown": "\nA tibble: 6 × 4\n\n| Date &lt;dttm&gt; | Latitude &lt;dbl&gt; | Longitude &lt;dbl&gt; | Magnitude &lt;dbl&gt; |\n|---|---|---|---|\n| 1965-01-02 |  19.246 |  145.616 | 6.0 |\n| 1965-01-04 |   1.863 |  127.352 | 5.8 |\n| 1965-01-05 | -20.579 | -173.972 | 6.2 |\n| 1965-01-08 | -59.076 |  -23.557 | 5.8 |\n| 1965-01-09 |  11.938 |  126.427 | 5.8 |\n| 1965-01-10 | -13.405 |  166.629 | 6.7 |\n\n",
            "text/latex": "A tibble: 6 × 4\n\\begin{tabular}{llll}\n Date & Latitude & Longitude & Magnitude\\\\\n <dttm> & <dbl> & <dbl> & <dbl>\\\\\n\\hline\n\t 1965-01-02 &  19.246 &  145.616 & 6.0\\\\\n\t 1965-01-04 &   1.863 &  127.352 & 5.8\\\\\n\t 1965-01-05 & -20.579 & -173.972 & 6.2\\\\\n\t 1965-01-08 & -59.076 &  -23.557 & 5.8\\\\\n\t 1965-01-09 &  11.938 &  126.427 & 5.8\\\\\n\t 1965-01-10 & -13.405 &  166.629 & 6.7\\\\\n\\end{tabular}\n",
            "text/plain": "  Date       Latitude Longitude Magnitude\n1 1965-01-02  19.246   145.616  6.0      \n2 1965-01-04   1.863   127.352  5.8      \n3 1965-01-05 -20.579  -173.972  6.2      \n4 1965-01-08 -59.076   -23.557  5.8      \n5 1965-01-09  11.938   126.427  5.8      \n6 1965-01-10 -13.405   166.629  6.7      "
          },
          "metadata": {}
        }
      ],
      "execution_count": 2,
      "metadata": {
        "jupyter": {
          "source_hidden": false,
          "outputs_hidden": false
        },
        "nteract": {
          "transient": {
            "deleting": false
          }
        },
        "gather": {
          "logged": 1685740223419
        }
      }
    },
    {
      "cell_type": "markdown",
      "source": [
        "## Inspect the DataFrame"
      ],
      "metadata": {
        "nteract": {
          "transient": {
            "deleting": false
          }
        }
      }
    },
    {
      "cell_type": "code",
      "source": [
        "skimr::skim(quakes)"
      ],
      "outputs": [
        {
          "output_type": "stream",
          "name": "stdout",
          "text": "── Data Summary ────────────────────────\n                           Values\nName                       quakes\nNumber of rows             23412 \nNumber of columns          4     \n_______________________          \nColumn type frequency:           \n  numeric                  3     \n  POSIXct                  1     \n________________________         \nGroup variables            None  \n\n── Variable type: numeric ──────────────────────────────────────────────────────\n  skim_variable n_missing complete_rate  mean      sd     p0   p25    p50   p75\n\u001b[90m1\u001b[39m Latitude              0             1  1.68  30.1    -\u001b[31m77\u001b[39m\u001b[31m.\u001b[39m\u001b[31m1\u001b[39m -\u001b[31m18\u001b[39m\u001b[31m.\u001b[39m\u001b[31m7\u001b[39m  -\u001b[31m3\u001b[39m\u001b[31m.\u001b[39m\u001b[31m57\u001b[39m  26.2\n\u001b[90m2\u001b[39m Longitude             0             1 39.6  126.    -\u001b[31m180\u001b[39m\u001b[31m.\u001b[39m  -\u001b[31m76\u001b[39m\u001b[31m.\u001b[39m\u001b[31m3\u001b[39m 104.   145. \n\u001b[90m3\u001b[39m Magnitude             0             1  5.88   0.423    5.5   5.6   5.7    6  \n   p100 hist \n\u001b[90m1\u001b[39m  86.0 ▂▆▇▅▁\n\u001b[90m2\u001b[39m 180.  ▃▂▁▂▇\n\u001b[90m3\u001b[39m   9.1 ▇▁▁▁▁\n\n── Variable type: POSIXct ──────────────────────────────────────────────────────\n  skim_variable n_missing complete_rate min                 max                \n\u001b[90m1\u001b[39m Date                  3          1.00 1965-01-02 \u001b[90m00:00:00\u001b[39m 2016-12-30 \u001b[90m00:00:00\u001b[39m\n  median              n_unique\n\u001b[90m1\u001b[39m 1993-11-30 \u001b[90m00:00:00\u001b[39m    \u001b[4m1\u001b[24m\u001b[4m2\u001b[24m398\n"
        },
        {
          "output_type": "stream",
          "name": "stderr",
          "text": "Warning message in is.null(text_repr) || nchar(text_repr) == 0L:\n“'length(x) = 16 > 1' in coercion to 'logical(1)'”\n"
        },
        {
          "output_type": "display_data",
          "data": {
            "text/html": "<table class=\"dataframe\">\n<caption>A skim_df: 4 × 16</caption>\n<thead>\n\t<tr><th></th><th scope=col>skim_type</th><th scope=col>skim_variable</th><th scope=col>n_missing</th><th scope=col>complete_rate</th><th scope=col>POSIXct.min</th><th scope=col>POSIXct.max</th><th scope=col>POSIXct.median</th><th scope=col>POSIXct.n_unique</th><th scope=col>numeric.mean</th><th scope=col>numeric.sd</th><th scope=col>numeric.p0</th><th scope=col>numeric.p25</th><th scope=col>numeric.p50</th><th scope=col>numeric.p75</th><th scope=col>numeric.p100</th><th scope=col>numeric.hist</th></tr>\n\t<tr><th></th><th scope=col>&lt;chr&gt;</th><th scope=col>&lt;chr&gt;</th><th scope=col>&lt;int&gt;</th><th scope=col>&lt;dbl&gt;</th><th scope=col>&lt;dttm&gt;</th><th scope=col>&lt;dttm&gt;</th><th scope=col>&lt;dttm&gt;</th><th scope=col>&lt;int&gt;</th><th scope=col>&lt;dbl&gt;</th><th scope=col>&lt;dbl&gt;</th><th scope=col>&lt;dbl&gt;</th><th scope=col>&lt;dbl&gt;</th><th scope=col>&lt;dbl&gt;</th><th scope=col>&lt;dbl&gt;</th><th scope=col>&lt;dbl&gt;</th><th scope=col>&lt;chr&gt;</th></tr>\n</thead>\n<tbody>\n\t<tr><th scope=row>1</th><td>POSIXct</td><td>Date     </td><td>3</td><td>0.9998719</td><td>1965-01-02</td><td>2016-12-30</td><td>1993-11-30</td><td>12398</td><td>       NA</td><td>         NA</td><td>      NA</td><td>       NA</td><td>      NA</td><td>       NA</td><td>     NA</td><td>NA   </td></tr>\n\t<tr><th scope=row>2</th><td>numeric</td><td>Latitude </td><td>0</td><td>1.0000000</td><td>NA</td><td>NA</td><td>NA</td><td>   NA</td><td> 1.679033</td><td> 30.1131829</td><td> -77.080</td><td>-18.65300</td><td> -3.5685</td><td> 26.19075</td><td> 86.005</td><td>▂▆▇▅▁</td></tr>\n\t<tr><th scope=row>3</th><td>numeric</td><td>Longitude</td><td>0</td><td>1.0000000</td><td>NA</td><td>NA</td><td>NA</td><td>   NA</td><td>39.639961</td><td>125.5119585</td><td>-179.997</td><td>-76.34975</td><td>103.9820</td><td>145.02625</td><td>179.998</td><td>▃▂▁▂▇</td></tr>\n\t<tr><th scope=row>4</th><td>numeric</td><td>Magnitude</td><td>0</td><td>1.0000000</td><td>NA</td><td>NA</td><td>NA</td><td>   NA</td><td> 5.882531</td><td>  0.4230656</td><td>   5.500</td><td>  5.60000</td><td>  5.7000</td><td>  6.00000</td><td>  9.100</td><td>▇▁▁▁▁</td></tr>\n</tbody>\n</table>\n",
            "text/markdown": "\nA skim_df: 4 × 16\n\n| <!--/--> | skim_type &lt;chr&gt; | skim_variable &lt;chr&gt; | n_missing &lt;int&gt; | complete_rate &lt;dbl&gt; | POSIXct.min &lt;dttm&gt; | POSIXct.max &lt;dttm&gt; | POSIXct.median &lt;dttm&gt; | POSIXct.n_unique &lt;int&gt; | numeric.mean &lt;dbl&gt; | numeric.sd &lt;dbl&gt; | numeric.p0 &lt;dbl&gt; | numeric.p25 &lt;dbl&gt; | numeric.p50 &lt;dbl&gt; | numeric.p75 &lt;dbl&gt; | numeric.p100 &lt;dbl&gt; | numeric.hist &lt;chr&gt; |\n|---|---|---|---|---|---|---|---|---|---|---|---|---|---|---|---|---|\n| 1 | POSIXct | Date      | 3 | 0.9998719 | 1965-01-02 | 2016-12-30 | 1993-11-30 | 12398 |        NA |          NA |       NA |        NA |       NA |        NA |      NA | NA    |\n| 2 | numeric | Latitude  | 0 | 1.0000000 | NA | NA | NA |    NA |  1.679033 |  30.1131829 |  -77.080 | -18.65300 |  -3.5685 |  26.19075 |  86.005 | ▂▆▇▅▁ |\n| 3 | numeric | Longitude | 0 | 1.0000000 | NA | NA | NA |    NA | 39.639961 | 125.5119585 | -179.997 | -76.34975 | 103.9820 | 145.02625 | 179.998 | ▃▂▁▂▇ |\n| 4 | numeric | Magnitude | 0 | 1.0000000 | NA | NA | NA |    NA |  5.882531 |   0.4230656 |    5.500 |   5.60000 |   5.7000 |   6.00000 |   9.100 | ▇▁▁▁▁ |\n\n",
            "text/latex": "A skim\\_df: 4 × 16\n\\begin{tabular}{r|llllllllllllllll}\n  & skim\\_type & skim\\_variable & n\\_missing & complete\\_rate & POSIXct.min & POSIXct.max & POSIXct.median & POSIXct.n\\_unique & numeric.mean & numeric.sd & numeric.p0 & numeric.p25 & numeric.p50 & numeric.p75 & numeric.p100 & numeric.hist\\\\\n  & <chr> & <chr> & <int> & <dbl> & <dttm> & <dttm> & <dttm> & <int> & <dbl> & <dbl> & <dbl> & <dbl> & <dbl> & <dbl> & <dbl> & <chr>\\\\\n\\hline\n\t1 & POSIXct & Date      & 3 & 0.9998719 & 1965-01-02 & 2016-12-30 & 1993-11-30 & 12398 &        NA &          NA &       NA &        NA &       NA &        NA &      NA & NA   \\\\\n\t2 & numeric & Latitude  & 0 & 1.0000000 & NA & NA & NA &    NA &  1.679033 &  30.1131829 &  -77.080 & -18.65300 &  -3.5685 &  26.19075 &  86.005 & ▂▆▇▅▁\\\\\n\t3 & numeric & Longitude & 0 & 1.0000000 & NA & NA & NA &    NA & 39.639961 & 125.5119585 & -179.997 & -76.34975 & 103.9820 & 145.02625 & 179.998 & ▃▂▁▂▇\\\\\n\t4 & numeric & Magnitude & 0 & 1.0000000 & NA & NA & NA &    NA &  5.882531 &   0.4230656 &    5.500 &   5.60000 &   5.7000 &   6.00000 &   9.100 & ▇▁▁▁▁\\\\\n\\end{tabular}\n",
            "text/plain": "[object Object][object Object][object Object][object Object]"
          },
          "metadata": {}
        }
      ],
      "execution_count": 3,
      "metadata": {
        "jupyter": {
          "source_hidden": false,
          "outputs_hidden": false
        },
        "nteract": {
          "transient": {
            "deleting": false
          }
        },
        "gather": {
          "logged": 1685740276753
        }
      }
    },
    {
      "cell_type": "markdown",
      "source": [
        "## Geospatial Analysis"
      ],
      "metadata": {
        "nteract": {
          "transient": {
            "deleting": false
          }
        }
      }
    },
    {
      "cell_type": "code",
      "source": [
        "fig = quakes |>\n",
        "  plot_ly(\n",
        "    type = 'densitymapbox',\n",
        "    lat = ~ Latitude,\n",
        "    lon = ~ Longitude,\n",
        "    coloraxis = 'coloraxis',\n",
        "    radius = 5\n",
        "  ) \n",
        "\n",
        "fig |>\n",
        "  layout(\n",
        "    mapbox = list(\n",
        "      style = \"stamen-terrain\",\n",
        "      center = list(lon = 180)), coloraxis = list(colorscale = \"Viridis\")\n",
        "    )"
      ],
      "outputs": [],
      "execution_count": null,
      "metadata": {
        "jupyter": {
          "source_hidden": false,
          "outputs_hidden": false
        },
        "nteract": {
          "transient": {
            "deleting": false
          }
        }
      }
    },
    {
      "cell_type": "markdown",
      "source": [
        "## Examine temporal patterns\n",
        "\n",
        "Plotting the number of earthquakes by year indicates that earthquakes are becoming more frequent:"
      ],
      "metadata": {
        "nteract": {
          "transient": {
            "deleting": false
          }
        }
      }
    },
    {
      "cell_type": "code",
      "source": [
        "yearly = quakes |>\n",
        "    group_by(Year = year(Date)) |>\n",
        "    summarize(n = n())\n",
        "\n",
        "yearly |>\n",
        "  plotly::plot_ly(type = \"bar\",\n",
        "                  x = ~ Year,\n",
        "                  y = ~ n)"
      ],
      "outputs": [],
      "execution_count": null,
      "metadata": {
        "jupyter": {
          "source_hidden": false,
          "outputs_hidden": false
        },
        "nteract": {
          "transient": {
            "deleting": false
          }
        }
      }
    },
    {
      "cell_type": "markdown",
      "source": [
        "This is maybe unexpected. To look into the data more, we can also plot by time and magnitude. This shows that the number of large magnitude events stays relatively constant through time, and the apparent increase entirely comes from smaller magnitude events. This might suggest a detection bias."
      ],
      "metadata": {
        "nteract": {
          "transient": {
            "deleting": false
          }
        }
      }
    },
    {
      "cell_type": "code",
      "source": [
        "yearly_mag = quakes |> \n",
        "  group_by(Year = year(Date), Magnitude = cut_width(Magnitude, 1)) |> \n",
        "  summarize(n = n())\n",
        "\n",
        "yearly_mag |> \n",
        "  plot_ly(\n",
        "    type = \"scatter\",\n",
        "    x = ~ Year,\n",
        "    y = ~ n,\n",
        "    color = ~ Magnitude,\n",
        "    mode = \"markers\"\n",
        "  )"
      ],
      "outputs": [],
      "execution_count": null,
      "metadata": {
        "jupyter": {
          "source_hidden": false,
          "outputs_hidden": false
        },
        "nteract": {
          "transient": {
            "deleting": false
          }
        }
      }
    }
  ],
  "metadata": {
    "kernelspec": {
      "display_name": "Python 3.10 - SDK v2",
      "language": "python",
      "name": "python310-sdkv2"
    },
    "language_info": {
      "name": "R",
      "codemirror_mode": "r",
      "pygments_lexer": "r",
      "mimetype": "text/x-r-source",
      "file_extension": ".r",
      "version": "4.2.3"
    },
    "microsoft": {
      "ms_spell_check": {
        "ms_spell_check_language": "en"
      },
      "host": {
        "AzureML": {
          "notebookHasBeenCompleted": true
        }
      }
    },
    "nteract": {
      "version": "nteract-front-end@1.0.0"
    }
  },
  "nbformat": 4,
  "nbformat_minor": 2
}