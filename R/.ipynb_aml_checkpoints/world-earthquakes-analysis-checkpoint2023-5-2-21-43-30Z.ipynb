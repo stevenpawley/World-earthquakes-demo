{
  "cells": [
    {
      "cell_type": "code",
      "source": [
        "library(tidyverse)\n",
        "library(plotly)"
      ],
      "outputs": [],
      "execution_count": null,
      "metadata": {
        "gather": {
          "logged": 1685740391330
        },
        "jupyter": {
          "outputs_hidden": true
        }
      }
    },
    {
      "cell_type": "markdown",
      "source": [
        "## Download the data"
      ],
      "metadata": {
        "nteract": {
          "transient": {
            "deleting": false
          }
        }
      }
    },
    {
      "cell_type": "code",
      "source": [
        "quakes = read_csv('https://raw.githubusercontent.com/plotly/datasets/master/earthquakes-23k.csv')\n",
        "\n",
        "quakes = quakes |> \n",
        "  mutate(Date = parse_date_time(Date, orders = \"%m/%d/%Y\"))\n",
        "\n",
        "head(quakes)"
      ],
      "outputs": [],
      "execution_count": null,
      "metadata": {
        "jupyter": {
          "source_hidden": false,
          "outputs_hidden": false
        },
        "nteract": {
          "transient": {
            "deleting": false
          }
        },
        "gather": {
          "logged": 1685740391749
        }
      }
    },
    {
      "cell_type": "markdown",
      "source": [
        "## Inspect the DataFrame"
      ],
      "metadata": {
        "nteract": {
          "transient": {
            "deleting": false
          }
        }
      }
    },
    {
      "cell_type": "code",
      "source": [
        "skimr::skim(quakes)"
      ],
      "outputs": [],
      "execution_count": null,
      "metadata": {
        "jupyter": {
          "source_hidden": false,
          "outputs_hidden": false
        },
        "nteract": {
          "transient": {
            "deleting": false
          }
        },
        "gather": {
          "logged": 1685740392140
        }
      }
    },
    {
      "cell_type": "markdown",
      "source": [
        "## Geospatial Analysis"
      ],
      "metadata": {
        "nteract": {
          "transient": {
            "deleting": false
          }
        }
      }
    },
    {
      "cell_type": "code",
      "source": [
        "fig = quakes |>\n",
        "  plot_ly(\n",
        "    type = 'densitymapbox',\n",
        "    lat = ~ Latitude,\n",
        "    lon = ~ Longitude,\n",
        "    coloraxis = 'coloraxis',\n",
        "    radius = 5\n",
        "  ) \n",
        "\n",
        "fig |>\n",
        "  layout(\n",
        "    mapbox = list(\n",
        "      style = \"stamen-terrain\",\n",
        "      center = list(lon = 180)), coloraxis = list(colorscale = \"Viridis\")\n",
        "    )"
      ],
      "outputs": [],
      "execution_count": null,
      "metadata": {
        "jupyter": {
          "source_hidden": false,
          "outputs_hidden": false
        },
        "nteract": {
          "transient": {
            "deleting": false
          }
        },
        "gather": {
          "logged": 1685740395381
        }
      }
    },
    {
      "cell_type": "markdown",
      "source": [
        "## Examine temporal patterns\n",
        "\n",
        "Plotting the number of earthquakes by year indicates that earthquakes are becoming more frequent:"
      ],
      "metadata": {
        "nteract": {
          "transient": {
            "deleting": false
          }
        }
      }
    },
    {
      "cell_type": "code",
      "source": [
        "yearly = quakes |>\n",
        "    group_by(Year = year(Date)) |>\n",
        "    summarize(n = n())\n",
        "\n",
        "yearly |>\n",
        "  plotly::plot_ly(type = \"bar\",\n",
        "                  x = ~ Year,\n",
        "                  y = ~ n)"
      ],
      "outputs": [],
      "execution_count": null,
      "metadata": {
        "jupyter": {
          "source_hidden": false,
          "outputs_hidden": false
        },
        "nteract": {
          "transient": {
            "deleting": false
          }
        },
        "gather": {
          "logged": 1685740395833
        }
      }
    },
    {
      "cell_type": "markdown",
      "source": [
        "This is maybe unexpected. To look into the data more, we can also plot by time and magnitude. This shows that the number of large magnitude events stays relatively constant through time, and the apparent increase entirely comes from smaller magnitude events. This might suggest a detection bias."
      ],
      "metadata": {
        "nteract": {
          "transient": {
            "deleting": false
          }
        }
      }
    },
    {
      "cell_type": "code",
      "source": [
        "yearly_mag = quakes |> \n",
        "  group_by(Year = year(Date), Magnitude = cut_width(Magnitude, 1)) |> \n",
        "  summarize(n = n())\n",
        "\n",
        "yearly_mag |> \n",
        "  plot_ly(\n",
        "    type = \"scatter\",\n",
        "    x = ~ Year,\n",
        "    y = ~ n,\n",
        "    color = ~ Magnitude,\n",
        "    mode = \"markers\"\n",
        "  )"
      ],
      "outputs": [],
      "execution_count": null,
      "metadata": {
        "jupyter": {
          "source_hidden": false,
          "outputs_hidden": false
        },
        "nteract": {
          "transient": {
            "deleting": false
          }
        },
        "gather": {
          "logged": 1685740396643
        }
      }
    }
  ],
  "metadata": {
    "kernelspec": {
      "display_name": "Python 3.10 - SDK v2",
      "language": "python",
      "name": "python310-sdkv2"
    },
    "language_info": {
      "name": "R",
      "codemirror_mode": "r",
      "pygments_lexer": "r",
      "mimetype": "text/x-r-source",
      "file_extension": ".r",
      "version": "4.2.3"
    },
    "microsoft": {
      "ms_spell_check": {
        "ms_spell_check_language": "en"
      },
      "host": {
        "AzureML": {
          "notebookHasBeenCompleted": true
        }
      }
    },
    "nteract": {
      "version": "nteract-front-end@1.0.0"
    }
  },
  "nbformat": 4,
  "nbformat_minor": 2
}